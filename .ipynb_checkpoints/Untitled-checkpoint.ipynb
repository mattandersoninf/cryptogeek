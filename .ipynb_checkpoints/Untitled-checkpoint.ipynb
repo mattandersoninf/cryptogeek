{
 "cells": [
  {
   "cell_type": "code",
   "execution_count": null,
   "metadata": {},
   "outputs": [],
   "source": [
    "# This notebook will scrape different websites for information on cryptocurrency\n",
    "\n",
    "\n",
    "import \n",
    "\n",
    "import requests\n",
    "import os\n",
    "from beautifulsoup4 import BeautifulSoup as soup\n",
    "from beautifulsoup4 import SoupStrainer as strain\n",
    "\n",
    "from pprint import pprint\n",
    "import"
   ]
  }
 ],
 "metadata": {
  "kernelspec": {
   "display_name": "Python 3",
   "language": "python",
   "name": "python3"
  },
  "language_info": {
   "codemirror_mode": {
    "name": "ipython",
    "version": 3
   },
   "file_extension": ".py",
   "mimetype": "text/x-python",
   "name": "python",
   "nbconvert_exporter": "python",
   "pygments_lexer": "ipython3",
   "version": "3.6.8"
  }
 },
 "nbformat": 4,
 "nbformat_minor": 2
}
